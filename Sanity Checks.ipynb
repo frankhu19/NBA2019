{
 "cells": [
  {
   "cell_type": "code",
   "execution_count": 47,
   "metadata": {},
   "outputs": [],
   "source": [
    "import pandas as pd\n",
    "import numpy as np"
   ]
  },
  {
   "cell_type": "code",
   "execution_count": 11,
   "metadata": {},
   "outputs": [
    {
     "data": {
      "text/html": [
       "<div>\n",
       "<style scoped>\n",
       "    .dataframe tbody tr th:only-of-type {\n",
       "        vertical-align: middle;\n",
       "    }\n",
       "\n",
       "    .dataframe tbody tr th {\n",
       "        vertical-align: top;\n",
       "    }\n",
       "\n",
       "    .dataframe thead th {\n",
       "        text-align: right;\n",
       "    }\n",
       "</style>\n",
       "<table border=\"1\" class=\"dataframe\">\n",
       "  <thead>\n",
       "    <tr style=\"text-align: right;\">\n",
       "      <th></th>\n",
       "      <th>Results</th>\n",
       "      <th>Observations</th>\n",
       "    </tr>\n",
       "  </thead>\n",
       "  <tbody>\n",
       "    <tr>\n",
       "      <th>Speedml Release</th>\n",
       "      <td>v0.9.3</td>\n",
       "      <td>Visit https://speedml.com for release notes.</td>\n",
       "    </tr>\n",
       "    <tr>\n",
       "      <th>Nulls</th>\n",
       "      <td>NaN</td>\n",
       "      <td>Use feature.impute.</td>\n",
       "    </tr>\n",
       "    <tr>\n",
       "      <th>Outliers Upper</th>\n",
       "      <td>[bottom3Tagged, Morning, 6, 7, 8, 9]</td>\n",
       "      <td>Positive skew (&gt; 3). Use feature.outliers(upper).</td>\n",
       "    </tr>\n",
       "    <tr>\n",
       "      <th>Shape</th>\n",
       "      <td>train (7766, 36) | test (7765, 1)</td>\n",
       "      <td></td>\n",
       "    </tr>\n",
       "    <tr>\n",
       "      <th>Numerical High-cardinality</th>\n",
       "      <td>[NBA_Follower_Count, Len_Desc, propOfSpecialTe...</td>\n",
       "      <td>(&gt;10) categories. Use feature.density</td>\n",
       "    </tr>\n",
       "    <tr>\n",
       "      <th>Numerical Categorical</th>\n",
       "      <td>[Tagged_Count, teamTagged, otherTagged, top3Ta...</td>\n",
       "      <td>Use plot.ordinal.</td>\n",
       "    </tr>\n",
       "    <tr>\n",
       "      <th>Numerical Continuous</th>\n",
       "      <td>[Engagements]</td>\n",
       "      <td>~80% unique. Use plot.continuous.</td>\n",
       "    </tr>\n",
       "    <tr>\n",
       "      <th>Target Analysis (Engagements)</th>\n",
       "      <td>Model ready.</td>\n",
       "      <td>Use regression models.</td>\n",
       "    </tr>\n",
       "  </tbody>\n",
       "</table>\n",
       "</div>"
      ],
      "text/plain": [
       "                                                                         Results  \\\n",
       "Speedml Release                                                           v0.9.3   \n",
       "Nulls                                                                        NaN   \n",
       "Outliers Upper                              [bottom3Tagged, Morning, 6, 7, 8, 9]   \n",
       "Shape                                          train (7766, 36) | test (7765, 1)   \n",
       "Numerical High-cardinality     [NBA_Follower_Count, Len_Desc, propOfSpecialTe...   \n",
       "Numerical Categorical          [Tagged_Count, teamTagged, otherTagged, top3Ta...   \n",
       "Numerical Continuous                                               [Engagements]   \n",
       "Target Analysis (Engagements)                                       Model ready.   \n",
       "\n",
       "                                                                    Observations  \n",
       "Speedml Release                     Visit https://speedml.com for release notes.  \n",
       "Nulls                                                        Use feature.impute.  \n",
       "Outliers Upper                 Positive skew (> 3). Use feature.outliers(upper).  \n",
       "Shape                                                                             \n",
       "Numerical High-cardinality                 (>10) categories. Use feature.density  \n",
       "Numerical Categorical                                          Use plot.ordinal.  \n",
       "Numerical Continuous                           ~80% unique. Use plot.continuous.  \n",
       "Target Analysis (Engagements)                             Use regression models.  "
      ]
     },
     "execution_count": 11,
     "metadata": {},
     "output_type": "execute_result"
    }
   ],
   "source": [
    "from speedml import Speedml\n",
    "sml = Speedml('currentTestingData.csv',\n",
    "              'forAutoEda_target.csv',\n",
    "              target='Engagements')\n",
    "\n",
    "sml.eda()"
   ]
  },
  {
   "cell_type": "code",
   "execution_count": 36,
   "metadata": {},
   "outputs": [],
   "source": [
    "data = pd.read_csv('training_set.csv', encoding = \"ISO-8859-1\")"
   ]
  },
  {
   "cell_type": "code",
   "execution_count": 37,
   "metadata": {
    "scrolled": true
   },
   "outputs": [
    {
     "data": {
      "text/html": [
       "<div>\n",
       "<style scoped>\n",
       "    .dataframe tbody tr th:only-of-type {\n",
       "        vertical-align: middle;\n",
       "    }\n",
       "\n",
       "    .dataframe tbody tr th {\n",
       "        vertical-align: top;\n",
       "    }\n",
       "\n",
       "    .dataframe thead th {\n",
       "        text-align: right;\n",
       "    }\n",
       "</style>\n",
       "<table border=\"1\" class=\"dataframe\">\n",
       "  <thead>\n",
       "    <tr style=\"text-align: right;\">\n",
       "      <th></th>\n",
       "      <th>Engagements</th>\n",
       "      <th>Followers at Posting</th>\n",
       "      <th>Created</th>\n",
       "      <th>Type</th>\n",
       "      <th>Description</th>\n",
       "    </tr>\n",
       "  </thead>\n",
       "  <tbody>\n",
       "    <tr>\n",
       "      <th>0</th>\n",
       "      <td>502093</td>\n",
       "      <td>36984682</td>\n",
       "      <td>2019-05-21 23:30:51 EDT</td>\n",
       "      <td>Video</td>\n",
       "      <td>The @raptors bench trio of @sergeibaka @norman...</td>\n",
       "    </tr>\n",
       "    <tr>\n",
       "      <th>1</th>\n",
       "      <td>603380</td>\n",
       "      <td>36984682</td>\n",
       "      <td>2019-05-21 22:53:33 EDT</td>\n",
       "      <td>Video</td>\n",
       "      <td>@kyle_lowry7 pulls from deep for the @raptors ...</td>\n",
       "    </tr>\n",
       "    <tr>\n",
       "      <th>2</th>\n",
       "      <td>603380</td>\n",
       "      <td>36984682</td>\n",
       "      <td>2019-05-21 22:19:58 EDT</td>\n",
       "      <td>Video</td>\n",
       "      <td>@k_mid22 with some english on the @bucks dime!</td>\n",
       "    </tr>\n",
       "    <tr>\n",
       "      <th>3</th>\n",
       "      <td>725100</td>\n",
       "      <td>36984682</td>\n",
       "      <td>2019-05-21 22:02:41 EDT</td>\n",
       "      <td>Video</td>\n",
       "      <td>Kawhi punches it home with the left on TNT!</td>\n",
       "    </tr>\n",
       "    <tr>\n",
       "      <th>4</th>\n",
       "      <td>661446</td>\n",
       "      <td>36984682</td>\n",
       "      <td>2019-05-21 20:47:49 EDT</td>\n",
       "      <td>Video</td>\n",
       "      <td>@giannis_an34 goes baseline early to rock the ...</td>\n",
       "    </tr>\n",
       "  </tbody>\n",
       "</table>\n",
       "</div>"
      ],
      "text/plain": [
       "   Engagements  Followers at Posting                  Created   Type  \\\n",
       "0       502093              36984682  2019-05-21 23:30:51 EDT  Video   \n",
       "1       603380              36984682  2019-05-21 22:53:33 EDT  Video   \n",
       "2       603380              36984682  2019-05-21 22:19:58 EDT  Video   \n",
       "3       725100              36984682  2019-05-21 22:02:41 EDT  Video   \n",
       "4       661446              36984682  2019-05-21 20:47:49 EDT  Video   \n",
       "\n",
       "                                         Description  \n",
       "0  The @raptors bench trio of @sergeibaka @norman...  \n",
       "1  @kyle_lowry7 pulls from deep for the @raptors ...  \n",
       "2     @k_mid22 with some english on the @bucks dime!  \n",
       "3        Kawhi punches it home with the left on TNT!  \n",
       "4  @giannis_an34 goes baseline early to rock the ...  "
      ]
     },
     "execution_count": 37,
     "metadata": {},
     "output_type": "execute_result"
    }
   ],
   "source": [
    "data.head()"
   ]
  },
  {
   "cell_type": "code",
   "execution_count": 38,
   "metadata": {},
   "outputs": [],
   "source": [
    "data['Description']= data.Description.fillna('')"
   ]
  },
  {
   "cell_type": "code",
   "execution_count": 39,
   "metadata": {},
   "outputs": [],
   "source": [
    "data['len_desc']= data['Description'].str.len()"
   ]
  },
  {
   "cell_type": "code",
   "execution_count": 40,
   "metadata": {
    "scrolled": true
   },
   "outputs": [],
   "source": [
    "data = data.join(pd.get_dummies(data['Type']))"
   ]
  },
  {
   "cell_type": "code",
   "execution_count": 41,
   "metadata": {},
   "outputs": [],
   "source": [
    "features =['Video','len_desc']\n",
    "target = ['Engagements']"
   ]
  },
  {
   "cell_type": "code",
   "execution_count": 42,
   "metadata": {},
   "outputs": [],
   "source": [
    "from sklearn.model_selection import train_test_split\n",
    "X_train, X_test, y_train, y_test = train_test_split(data[features], data[target], test_size=0.2)"
   ]
  },
  {
   "cell_type": "code",
   "execution_count": 43,
   "metadata": {},
   "outputs": [],
   "source": [
    "# MAPE\n",
    "def mean_absolute_percentage_error(y_true, y_pred):\n",
    "    y_true, y_pred = np.array(y_true), np.array(y_pred)\n",
    "    return np.mean(np.abs((y_true - y_pred) / y_true)) * 100\n",
    "\n",
    "    "
   ]
  },
  {
   "cell_type": "code",
   "execution_count": 60,
   "metadata": {},
   "outputs": [],
   "source": [
    "from sklearn.model_selection import cross_validate\n",
    "from sklearn.metrics import fbeta_score, make_scorer\n",
    "def evaluate_model(estimator, features, target, data):\n",
    "    return cross_validate(estimator,                     \n",
    "                    X=data[features],\n",
    "                    y=data[target],\n",
    "                    scoring=make_scorer(mean_absolute_percentage_error, greater_is_better=False),\n",
    "                    n_jobs=-1, cv=3,\n",
    "                    return_train_score=True)\n",
    "\n",
    "def display_results(results):\n",
    "    results_df  = pd.DataFrame(results).T\n",
    "    results_cols = results_df.columns\n",
    "    for col in results_df:\n",
    "        results_df[col] = results_df[col].apply(np.mean)\n",
    "    return results_df\n",
    "\n"
   ]
  },
  {
   "cell_type": "code",
   "execution_count": 45,
   "metadata": {},
   "outputs": [],
   "source": [
    "RESULTS = {}"
   ]
  },
  {
   "cell_type": "code",
   "execution_count": 48,
   "metadata": {},
   "outputs": [],
   "source": [
    "from sklearn.ensemble import GradientBoostingRegressor\n",
    "RESULTS[\"xgb\"] = evaluate_model(GradientBoostingRegressor())\n"
   ]
  },
  {
   "cell_type": "code",
   "execution_count": 49,
   "metadata": {},
   "outputs": [
    {
     "data": {
      "text/html": [
       "<div>\n",
       "<style scoped>\n",
       "    .dataframe tbody tr th:only-of-type {\n",
       "        vertical-align: middle;\n",
       "    }\n",
       "\n",
       "    .dataframe tbody tr th {\n",
       "        vertical-align: top;\n",
       "    }\n",
       "\n",
       "    .dataframe thead th {\n",
       "        text-align: right;\n",
       "    }\n",
       "</style>\n",
       "<table border=\"1\" class=\"dataframe\">\n",
       "  <thead>\n",
       "    <tr style=\"text-align: right;\">\n",
       "      <th></th>\n",
       "      <th>fit_time</th>\n",
       "      <th>score_time</th>\n",
       "      <th>test_score</th>\n",
       "      <th>train_score</th>\n",
       "    </tr>\n",
       "  </thead>\n",
       "  <tbody>\n",
       "    <tr>\n",
       "      <th>xgb</th>\n",
       "      <td>0.177268</td>\n",
       "      <td>0.421699</td>\n",
       "      <td>-38.560176</td>\n",
       "      <td>-38.639255</td>\n",
       "    </tr>\n",
       "  </tbody>\n",
       "</table>\n",
       "</div>"
      ],
      "text/plain": [
       "     fit_time  score_time  test_score  train_score\n",
       "xgb  0.177268    0.421699  -38.560176   -38.639255"
      ]
     },
     "execution_count": 49,
     "metadata": {},
     "output_type": "execute_result"
    }
   ],
   "source": [
    "display_results(RESULTS)"
   ]
  },
  {
   "cell_type": "code",
   "execution_count": 53,
   "metadata": {},
   "outputs": [],
   "source": [
    "test2 = pd.read_csv('furtherValidationsNoStandardize.csv')"
   ]
  },
  {
   "cell_type": "code",
   "execution_count": 54,
   "metadata": {},
   "outputs": [
    {
     "data": {
      "text/html": [
       "<div>\n",
       "<style scoped>\n",
       "    .dataframe tbody tr th:only-of-type {\n",
       "        vertical-align: middle;\n",
       "    }\n",
       "\n",
       "    .dataframe tbody tr th {\n",
       "        vertical-align: top;\n",
       "    }\n",
       "\n",
       "    .dataframe thead th {\n",
       "        text-align: right;\n",
       "    }\n",
       "</style>\n",
       "<table border=\"1\" class=\"dataframe\">\n",
       "  <thead>\n",
       "    <tr style=\"text-align: right;\">\n",
       "      <th></th>\n",
       "      <th>NBA_Follower_Count</th>\n",
       "      <th>Len_Desc</th>\n",
       "      <th>Tagged_Count</th>\n",
       "      <th>propOfSpecialTexts</th>\n",
       "      <th>postsInThatDay</th>\n",
       "      <th>teamTagged</th>\n",
       "      <th>otherTagged</th>\n",
       "      <th>top3Tagged</th>\n",
       "      <th>bottom3Tagged</th>\n",
       "      <th>hasHashtag</th>\n",
       "      <th>...</th>\n",
       "      <th>4</th>\n",
       "      <th>5</th>\n",
       "      <th>6</th>\n",
       "      <th>7</th>\n",
       "      <th>8</th>\n",
       "      <th>9</th>\n",
       "      <th>10</th>\n",
       "      <th>11</th>\n",
       "      <th>12</th>\n",
       "      <th>Engagements</th>\n",
       "    </tr>\n",
       "  </thead>\n",
       "  <tbody>\n",
       "    <tr>\n",
       "      <th>0</th>\n",
       "      <td>36984682</td>\n",
       "      <td>95</td>\n",
       "      <td>4</td>\n",
       "      <td>0.266667</td>\n",
       "      <td>5</td>\n",
       "      <td>1</td>\n",
       "      <td>1</td>\n",
       "      <td>0</td>\n",
       "      <td>0</td>\n",
       "      <td>0</td>\n",
       "      <td>...</td>\n",
       "      <td>0</td>\n",
       "      <td>1</td>\n",
       "      <td>0</td>\n",
       "      <td>0</td>\n",
       "      <td>0</td>\n",
       "      <td>0</td>\n",
       "      <td>0</td>\n",
       "      <td>0</td>\n",
       "      <td>0</td>\n",
       "      <td>502093</td>\n",
       "    </tr>\n",
       "    <tr>\n",
       "      <th>1</th>\n",
       "      <td>36984682</td>\n",
       "      <td>64</td>\n",
       "      <td>2</td>\n",
       "      <td>0.166667</td>\n",
       "      <td>5</td>\n",
       "      <td>1</td>\n",
       "      <td>1</td>\n",
       "      <td>0</td>\n",
       "      <td>0</td>\n",
       "      <td>0</td>\n",
       "      <td>...</td>\n",
       "      <td>0</td>\n",
       "      <td>1</td>\n",
       "      <td>0</td>\n",
       "      <td>0</td>\n",
       "      <td>0</td>\n",
       "      <td>0</td>\n",
       "      <td>0</td>\n",
       "      <td>0</td>\n",
       "      <td>0</td>\n",
       "      <td>603380</td>\n",
       "    </tr>\n",
       "    <tr>\n",
       "      <th>2</th>\n",
       "      <td>36984682</td>\n",
       "      <td>46</td>\n",
       "      <td>2</td>\n",
       "      <td>0.250000</td>\n",
       "      <td>5</td>\n",
       "      <td>1</td>\n",
       "      <td>1</td>\n",
       "      <td>0</td>\n",
       "      <td>0</td>\n",
       "      <td>0</td>\n",
       "      <td>...</td>\n",
       "      <td>0</td>\n",
       "      <td>1</td>\n",
       "      <td>0</td>\n",
       "      <td>0</td>\n",
       "      <td>0</td>\n",
       "      <td>0</td>\n",
       "      <td>0</td>\n",
       "      <td>0</td>\n",
       "      <td>0</td>\n",
       "      <td>603380</td>\n",
       "    </tr>\n",
       "    <tr>\n",
       "      <th>3</th>\n",
       "      <td>36984682</td>\n",
       "      <td>43</td>\n",
       "      <td>0</td>\n",
       "      <td>0.000000</td>\n",
       "      <td>5</td>\n",
       "      <td>0</td>\n",
       "      <td>0</td>\n",
       "      <td>0</td>\n",
       "      <td>0</td>\n",
       "      <td>0</td>\n",
       "      <td>...</td>\n",
       "      <td>0</td>\n",
       "      <td>1</td>\n",
       "      <td>0</td>\n",
       "      <td>0</td>\n",
       "      <td>0</td>\n",
       "      <td>0</td>\n",
       "      <td>0</td>\n",
       "      <td>0</td>\n",
       "      <td>0</td>\n",
       "      <td>725100</td>\n",
       "    </tr>\n",
       "    <tr>\n",
       "      <th>4</th>\n",
       "      <td>36984682</td>\n",
       "      <td>57</td>\n",
       "      <td>1</td>\n",
       "      <td>0.100000</td>\n",
       "      <td>5</td>\n",
       "      <td>0</td>\n",
       "      <td>1</td>\n",
       "      <td>0</td>\n",
       "      <td>0</td>\n",
       "      <td>0</td>\n",
       "      <td>...</td>\n",
       "      <td>0</td>\n",
       "      <td>1</td>\n",
       "      <td>0</td>\n",
       "      <td>0</td>\n",
       "      <td>0</td>\n",
       "      <td>0</td>\n",
       "      <td>0</td>\n",
       "      <td>0</td>\n",
       "      <td>0</td>\n",
       "      <td>661446</td>\n",
       "    </tr>\n",
       "  </tbody>\n",
       "</table>\n",
       "<p>5 rows × 36 columns</p>\n",
       "</div>"
      ],
      "text/plain": [
       "   NBA_Follower_Count  Len_Desc  Tagged_Count  propOfSpecialTexts  \\\n",
       "0            36984682        95             4            0.266667   \n",
       "1            36984682        64             2            0.166667   \n",
       "2            36984682        46             2            0.250000   \n",
       "3            36984682        43             0            0.000000   \n",
       "4            36984682        57             1            0.100000   \n",
       "\n",
       "   postsInThatDay  teamTagged  otherTagged  top3Tagged  bottom3Tagged  \\\n",
       "0               5           1            1           0              0   \n",
       "1               5           1            1           0              0   \n",
       "2               5           1            1           0              0   \n",
       "3               5           0            0           0              0   \n",
       "4               5           0            1           0              0   \n",
       "\n",
       "   hasHashtag     ...       4  5  6  7  8  9  10  11  12  Engagements  \n",
       "0           0     ...       0  1  0  0  0  0   0   0   0       502093  \n",
       "1           0     ...       0  1  0  0  0  0   0   0   0       603380  \n",
       "2           0     ...       0  1  0  0  0  0   0   0   0       603380  \n",
       "3           0     ...       0  1  0  0  0  0   0   0   0       725100  \n",
       "4           0     ...       0  1  0  0  0  0   0   0   0       661446  \n",
       "\n",
       "[5 rows x 36 columns]"
      ]
     },
     "execution_count": 54,
     "metadata": {},
     "output_type": "execute_result"
    }
   ],
   "source": [
    "test2.head()"
   ]
  },
  {
   "cell_type": "code",
   "execution_count": 55,
   "metadata": {},
   "outputs": [
    {
     "data": {
      "text/plain": [
       "Index(['NBA_Follower_Count', 'Len_Desc', 'Tagged_Count', 'propOfSpecialTexts',\n",
       "       'postsInThatDay', 'teamTagged', 'otherTagged', 'top3Tagged',\n",
       "       'bottom3Tagged', 'hasHashtag', 'Video', 'Not_Video', 'Afternoon',\n",
       "       'Evening', 'Morning', 'Night', 'Friday', 'Monday', 'Saturday', 'Sunday',\n",
       "       'Thursday', 'Tuesday', 'Wednesday', '1', '2', '3', '4', '5', '6', '7',\n",
       "       '8', '9', '10', '11', '12', 'Engagements'],\n",
       "      dtype='object')"
      ]
     },
     "execution_count": 55,
     "metadata": {},
     "output_type": "execute_result"
    }
   ],
   "source": [
    "test2.columns"
   ]
  },
  {
   "cell_type": "code",
   "execution_count": 66,
   "metadata": {},
   "outputs": [],
   "source": [
    "features2 = ['NBA_Follower_Count', 'Len_Desc', 'Tagged_Count', 'propOfSpecialTexts',\n",
    "       'postsInThatDay', 'teamTagged', 'otherTagged', 'top3Tagged',\n",
    "       'bottom3Tagged', 'hasHashtag', 'Video', 'Not_Video', 'Afternoon',\n",
    "       'Evening', 'Morning', 'Night', 'Friday', 'Monday', 'Saturday', 'Sunday',\n",
    "       'Thursday', 'Tuesday', 'Wednesday', '1', '2', '3', '4', '5', '6', '7',\n",
    "       '8', '9', '10', '11', '12']\n",
    "target2 =['Engagements']"
   ]
  },
  {
   "cell_type": "code",
   "execution_count": 67,
   "metadata": {},
   "outputs": [],
   "source": [
    "RESULTS[\"xgb\"] = evaluate_model(GradientBoostingRegressor(),features2,target2,test2)"
   ]
  },
  {
   "cell_type": "code",
   "execution_count": 68,
   "metadata": {},
   "outputs": [
    {
     "data": {
      "text/html": [
       "<div>\n",
       "<style scoped>\n",
       "    .dataframe tbody tr th:only-of-type {\n",
       "        vertical-align: middle;\n",
       "    }\n",
       "\n",
       "    .dataframe tbody tr th {\n",
       "        vertical-align: top;\n",
       "    }\n",
       "\n",
       "    .dataframe thead th {\n",
       "        text-align: right;\n",
       "    }\n",
       "</style>\n",
       "<table border=\"1\" class=\"dataframe\">\n",
       "  <thead>\n",
       "    <tr style=\"text-align: right;\">\n",
       "      <th></th>\n",
       "      <th>fit_time</th>\n",
       "      <th>score_time</th>\n",
       "      <th>test_score</th>\n",
       "      <th>train_score</th>\n",
       "    </tr>\n",
       "  </thead>\n",
       "  <tbody>\n",
       "    <tr>\n",
       "      <th>xgb</th>\n",
       "      <td>0.585633</td>\n",
       "      <td>0.216075</td>\n",
       "      <td>-39.812585</td>\n",
       "      <td>-40.202924</td>\n",
       "    </tr>\n",
       "  </tbody>\n",
       "</table>\n",
       "</div>"
      ],
      "text/plain": [
       "     fit_time  score_time  test_score  train_score\n",
       "xgb  0.585633    0.216075  -39.812585   -40.202924"
      ]
     },
     "execution_count": 68,
     "metadata": {},
     "output_type": "execute_result"
    }
   ],
   "source": [
    "display_results(RESULTS)"
   ]
  },
  {
   "cell_type": "code",
   "execution_count": null,
   "metadata": {},
   "outputs": [],
   "source": []
  }
 ],
 "metadata": {
  "kernelspec": {
   "display_name": "Python 3",
   "language": "python",
   "name": "python3"
  },
  "language_info": {
   "codemirror_mode": {
    "name": "ipython",
    "version": 3
   },
   "file_extension": ".py",
   "mimetype": "text/x-python",
   "name": "python",
   "nbconvert_exporter": "python",
   "pygments_lexer": "ipython3",
   "version": "3.6.5"
  }
 },
 "nbformat": 4,
 "nbformat_minor": 2
}
